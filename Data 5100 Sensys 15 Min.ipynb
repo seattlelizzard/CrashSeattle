{
 "cells": [
  {
   "cell_type": "code",
   "execution_count": 1,
   "id": "c2f9c9b8",
   "metadata": {},
   "outputs": [],
   "source": [
    "#Setup\n",
    "import pandas as pd\n",
    "import numpy as np\n",
    "import datetime as dt"
   ]
  },
  {
   "cell_type": "code",
   "execution_count": 2,
   "id": "ae3e86d2",
   "metadata": {},
   "outputs": [],
   "source": [
    "#Import file from local computer\n",
    "df = pd.read_csv('/Users/actt/Desktop/Sensys_location.csv')"
   ]
  },
  {
   "cell_type": "code",
   "execution_count": 3,
   "id": "40d03a64",
   "metadata": {
    "scrolled": true
   },
   "outputs": [
    {
     "data": {
      "text/html": [
       "<div>\n",
       "<style scoped>\n",
       "    .dataframe tbody tr th:only-of-type {\n",
       "        vertical-align: middle;\n",
       "    }\n",
       "\n",
       "    .dataframe tbody tr th {\n",
       "        vertical-align: top;\n",
       "    }\n",
       "\n",
       "    .dataframe thead th {\n",
       "        text-align: right;\n",
       "    }\n",
       "</style>\n",
       "<table border=\"1\" class=\"dataframe\">\n",
       "  <thead>\n",
       "    <tr style=\"text-align: right;\">\n",
       "      <th></th>\n",
       "      <th>Unnamed: 0</th>\n",
       "      <th>Time</th>\n",
       "      <th>APEG</th>\n",
       "      <th>Sensor Zone</th>\n",
       "      <th>Occup (%)</th>\n",
       "      <th>Vol</th>\n",
       "      <th>year</th>\n",
       "      <th>Name</th>\n",
       "      <th>Latitude</th>\n",
       "      <th>Longitude</th>\n",
       "    </tr>\n",
       "  </thead>\n",
       "  <tbody>\n",
       "    <tr>\n",
       "      <th>0</th>\n",
       "      <td>0</td>\n",
       "      <td>09/01/2021 14:00:00 PDT</td>\n",
       "      <td>apeg0125</td>\n",
       "      <td>0125S_NBT_1</td>\n",
       "      <td>16.04</td>\n",
       "      <td>115.0</td>\n",
       "      <td>2021</td>\n",
       "      <td>Ballard Bridge</td>\n",
       "      <td>47.658978</td>\n",
       "      <td>-122.376148</td>\n",
       "    </tr>\n",
       "    <tr>\n",
       "      <th>1</th>\n",
       "      <td>1</td>\n",
       "      <td>09/01/2021 14:05:00 PDT</td>\n",
       "      <td>apeg0125</td>\n",
       "      <td>0125S_NBT_1</td>\n",
       "      <td>9.53</td>\n",
       "      <td>74.0</td>\n",
       "      <td>2021</td>\n",
       "      <td>Ballard Bridge</td>\n",
       "      <td>47.658978</td>\n",
       "      <td>-122.376148</td>\n",
       "    </tr>\n",
       "    <tr>\n",
       "      <th>2</th>\n",
       "      <td>2</td>\n",
       "      <td>09/01/2021 14:10:00 PDT</td>\n",
       "      <td>apeg0125</td>\n",
       "      <td>0125S_NBT_1</td>\n",
       "      <td>7.70</td>\n",
       "      <td>66.0</td>\n",
       "      <td>2021</td>\n",
       "      <td>Ballard Bridge</td>\n",
       "      <td>47.658978</td>\n",
       "      <td>-122.376148</td>\n",
       "    </tr>\n",
       "    <tr>\n",
       "      <th>3</th>\n",
       "      <td>3</td>\n",
       "      <td>09/01/2021 14:15:00 PDT</td>\n",
       "      <td>apeg0125</td>\n",
       "      <td>0125S_NBT_1</td>\n",
       "      <td>4.89</td>\n",
       "      <td>47.0</td>\n",
       "      <td>2021</td>\n",
       "      <td>Ballard Bridge</td>\n",
       "      <td>47.658978</td>\n",
       "      <td>-122.376148</td>\n",
       "    </tr>\n",
       "    <tr>\n",
       "      <th>4</th>\n",
       "      <td>4</td>\n",
       "      <td>09/01/2021 14:20:00 PDT</td>\n",
       "      <td>apeg0125</td>\n",
       "      <td>0125S_NBT_1</td>\n",
       "      <td>6.54</td>\n",
       "      <td>56.0</td>\n",
       "      <td>2021</td>\n",
       "      <td>Ballard Bridge</td>\n",
       "      <td>47.658978</td>\n",
       "      <td>-122.376148</td>\n",
       "    </tr>\n",
       "  </tbody>\n",
       "</table>\n",
       "</div>"
      ],
      "text/plain": [
       "   Unnamed: 0                     Time      APEG  Sensor Zone  Occup (%)  \\\n",
       "0           0  09/01/2021 14:00:00 PDT  apeg0125  0125S_NBT_1      16.04   \n",
       "1           1  09/01/2021 14:05:00 PDT  apeg0125  0125S_NBT_1       9.53   \n",
       "2           2  09/01/2021 14:10:00 PDT  apeg0125  0125S_NBT_1       7.70   \n",
       "3           3  09/01/2021 14:15:00 PDT  apeg0125  0125S_NBT_1       4.89   \n",
       "4           4  09/01/2021 14:20:00 PDT  apeg0125  0125S_NBT_1       6.54   \n",
       "\n",
       "     Vol  year            Name   Latitude   Longitude  \n",
       "0  115.0  2021  Ballard Bridge  47.658978 -122.376148  \n",
       "1   74.0  2021  Ballard Bridge  47.658978 -122.376148  \n",
       "2   66.0  2021  Ballard Bridge  47.658978 -122.376148  \n",
       "3   47.0  2021  Ballard Bridge  47.658978 -122.376148  \n",
       "4   56.0  2021  Ballard Bridge  47.658978 -122.376148  "
      ]
     },
     "execution_count": 3,
     "metadata": {},
     "output_type": "execute_result"
    }
   ],
   "source": [
    "#See contents of file\n",
    "df.head()"
   ]
  },
  {
   "cell_type": "code",
   "execution_count": 4,
   "id": "b9e65bd8",
   "metadata": {},
   "outputs": [],
   "source": [
    "#Assign directions by sensor zone\n",
    "#NBT = North, EBT = East, SBT = South, WBT = West\n",
    "directions = ['North' if 'NBT' in x \n",
    "              else 'East' if 'EBT' in x \n",
    "              else 'South' if 'SBT' in x \n",
    "              else 'West' if 'WBT' in x\n",
    "              else 'Unknown' for x in df['Sensor Zone']]\n",
    "\n",
    "#Make list into a series so we can insert into the data frame\n",
    "directions_series = pd.Series(directions)\n",
    "\n",
    "#Insert directions series into df\n",
    "df.insert(3, 'direction', directions_series)"
   ]
  },
  {
   "cell_type": "code",
   "execution_count": 5,
   "id": "89680292",
   "metadata": {
    "scrolled": true
   },
   "outputs": [],
   "source": [
    "#Remove PDT suffix from 'Time' column\n",
    "df['Time'].str.replace(' PDT', '')\n",
    "\n",
    "#Convert to pandas date time\n",
    "times = pd.to_datetime(df['Time'])\n",
    "df.insert(4, 'time', times)"
   ]
  },
  {
   "cell_type": "code",
   "execution_count": 6,
   "id": "9208df61",
   "metadata": {},
   "outputs": [],
   "source": [
    "df = df.groupby([pd.Grouper(key='APEG'), \n",
    "                 pd.Grouper(key='direction'), \n",
    "                 pd.Grouper(key='time', freq='15min')]).mean()"
   ]
  },
  {
   "cell_type": "code",
   "execution_count": 11,
   "id": "bd2ae7d1",
   "metadata": {},
   "outputs": [
    {
     "data": {
      "text/plain": [
       "2520632"
      ]
     },
     "execution_count": 11,
     "metadata": {},
     "output_type": "execute_result"
    }
   ],
   "source": [
    "#Create a slice of the old dataframe that only contains the columns we are interested in\n",
    "df2 = df.loc[:, ['Occup (%)', 'Vol']]"
   ]
  },
  {
   "cell_type": "code",
   "execution_count": 12,
   "id": "164f5b34",
   "metadata": {},
   "outputs": [],
   "source": [
    "#Export csv\n",
    "df2.to_csv('test out')"
   ]
  }
 ],
 "metadata": {
  "kernelspec": {
   "display_name": "Python 3 (ipykernel)",
   "language": "python",
   "name": "python3"
  },
  "language_info": {
   "codemirror_mode": {
    "name": "ipython",
    "version": 3
   },
   "file_extension": ".py",
   "mimetype": "text/x-python",
   "name": "python",
   "nbconvert_exporter": "python",
   "pygments_lexer": "ipython3",
   "version": "3.9.12"
  }
 },
 "nbformat": 4,
 "nbformat_minor": 5
}
